{
 "cells": [
  {
   "cell_type": "markdown",
   "metadata": {},
   "source": [
    "# 2.6 演習問題"
   ]
  },
  {
   "cell_type": "markdown",
   "metadata": {},
   "source": [
    "## 演習問題 2.1\n",
    "```\n",
    "next(\"the\", prev(\"the\", next(\"the\", -∞)))\n",
    "= next(\"the\", prev(\"the\", first(\"the\")))\n",
    "= next(\"the\", -∞)\n",
    "= first(\"the\")\n",
    "```"
   ]
  },
  {
   "cell_type": "markdown",
   "metadata": {},
   "source": [
    "## [ToDo] 演習問題 2.2"
   ]
  },
  {
   "cell_type": "markdown",
   "metadata": {},
   "source": [
    "## [ToDo] 演習問題 2.3"
   ]
  },
  {
   "cell_type": "markdown",
   "metadata": {},
   "source": [
    "## [ToDo] 演習問題 2.4"
   ]
  },
  {
   "cell_type": "markdown",
   "metadata": {},
   "source": [
    "## [ToDo] 演習問題 2.5"
   ]
  },
  {
   "cell_type": "markdown",
   "metadata": {},
   "source": [
    "## [ToDo] 演習問題 2.6"
   ]
  },
  {
   "cell_type": "markdown",
   "metadata": {},
   "source": [
    "## [ToDo] 演習問題 2.7"
   ]
  },
  {
   "cell_type": "markdown",
   "metadata": {},
   "source": [
    "## [ToDo] 演習問題 2.8"
   ]
  },
  {
   "cell_type": "markdown",
   "metadata": {},
   "source": [
    "## [ToDo] 演習問題 2.9"
   ]
  },
  {
   "cell_type": "markdown",
   "metadata": {},
   "source": [
    "## 演習問題 2.10\n",
    "$$\n",
    "\\frac{1}{\\alpha(1/R)+(1-\\alpha)(1/P)} \\\\\n",
    "= \\frac{1}{(1/(\\beta^2+1))(1/R)+(1-(1/(\\beta^2+1)))(1/P)} \\\\\n",
    "= \\frac{1}{(\\frac{1}{R(\\beta^2+1)})+\\frac{1}{P}-(\\frac{1}{P(\\beta^2+1)})} \\\\\n",
    "= \\frac{1}{(\\frac{1}{R(\\beta^2+1)})+\\frac{\\beta^2}{P(\\beta^2+1)}} \\\\\n",
    "= \\frac{1}{\\frac{P+R\\beta^2}{PR(\\beta^2+1)}} \\\\\n",
    "= \\frac{(\\beta^2+1)RP}{R\\beta^2+P}\n",
    "$$\n"
   ]
  },
  {
   "cell_type": "code",
   "execution_count": null,
   "metadata": {},
   "outputs": [],
   "source": []
  }
 ],
 "metadata": {
  "kernelspec": {
   "display_name": "Python 3",
   "language": "python",
   "name": "python3"
  },
  "language_info": {
   "codemirror_mode": {
    "name": "ipython",
    "version": 3
   },
   "file_extension": ".py",
   "mimetype": "text/x-python",
   "name": "python",
   "nbconvert_exporter": "python",
   "pygments_lexer": "ipython3",
   "version": "3.6.12"
  }
 },
 "nbformat": 4,
 "nbformat_minor": 4
}
