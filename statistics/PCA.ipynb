{
 "cells": [
  {
   "cell_type": "markdown",
   "id": "0e98dcdb-da6e-4b8a-86dd-bb2162b75e31",
   "metadata": {},
   "source": [
    "# 主成分分析 (**P**rincipal **C**omponent **A**nalysis; PCA)"
   ]
  },
  {
   "cell_type": "code",
   "execution_count": 1,
   "id": "46c6102d-c322-490d-880d-ce89a42ca6a4",
   "metadata": {},
   "outputs": [],
   "source": [
    "from sklearn.decomposition import PCA\n",
    "import pandas as pd\n",
    "import random\n",
    "import seaborn as sns"
   ]
  },
  {
   "cell_type": "code",
   "execution_count": 2,
   "id": "3f2fc53f-d2d4-42f8-bb8b-64bcad4e59c4",
   "metadata": {},
   "outputs": [],
   "source": [
    "q1 = [-1,0,0,1,1,1,1,1,1,1,1,1,1,1,1,1,1,1,1,1,]\n",
    "q2 = [0,0,0,0,1,1,1,1,1,1,1,1,1,1,1,1,]\n",
    "q3 = [-1,-1,-1,-1,0,0,0,0,1,1,1,1,1,1,1,1,1,1,1,1,]\n",
    "q4 = [-1,-1,0,0,0,0,0,0,1,1,1,1,1,1,]"
   ]
  },
  {
   "cell_type": "code",
   "execution_count": 3,
   "id": "4be7cfc2-4d81-4562-a483-1b6440ce8bb0",
   "metadata": {},
   "outputs": [
    {
     "name": "stdout",
     "output_type": "stream",
     "text": [
      ",Q1,Q2,Q3,Q4\n",
      "0,1,1,1,0\n",
      "1,1,0,1,-1\n",
      "2,0,1,1,0\n",
      "3,1,1,-1,1\n",
      "4,1,1,1,1\n",
      "5,0,1,1,1\n",
      "6,1,1,-1,-1\n",
      "7,1,1,-1,0\n",
      "8,1,1,1,0\n",
      "9,1,0,-1,1\n",
      "10,-1,1,1,0\n",
      "11,1,1,1,1\n",
      "12,1,0,1,0\n",
      "13,1,0,1,1\n",
      "14,1,0,0,0\n",
      "15,1,1,1,1\n",
      "16,1,1,-1,-1\n",
      "17,1,1,0,-1\n",
      "18,1,0,1,0\n",
      "19,1,1,1,0\n",
      "\n"
     ]
    }
   ],
   "source": [
    "df = pd.DataFrame(index=[], columns=['Q1', 'Q2', 'Q3', 'Q4'])\n",
    "for i in range(20):\n",
    "    df.loc[i] = [\n",
    "        random.choice(q1),\n",
    "        random.choice(q2),\n",
    "        random.choice(q3),\n",
    "        random.choice(q4),\n",
    "    ]\n",
    "print(df.to_csv())"
   ]
  },
  {
   "cell_type": "code",
   "execution_count": 4,
   "id": "4f7856c4-f883-458d-b03f-9e7c9e0b08b6",
   "metadata": {},
   "outputs": [
    {
     "data": {
      "text/html": [
       "<div>\n",
       "<style scoped>\n",
       "    .dataframe tbody tr th:only-of-type {\n",
       "        vertical-align: middle;\n",
       "    }\n",
       "\n",
       "    .dataframe tbody tr th {\n",
       "        vertical-align: top;\n",
       "    }\n",
       "\n",
       "    .dataframe thead th {\n",
       "        text-align: right;\n",
       "    }\n",
       "</style>\n",
       "<table border=\"1\" class=\"dataframe\">\n",
       "  <thead>\n",
       "    <tr style=\"text-align: right;\">\n",
       "      <th></th>\n",
       "      <th>Q1</th>\n",
       "      <th>Q2</th>\n",
       "      <th>Q3</th>\n",
       "      <th>Q4</th>\n",
       "    </tr>\n",
       "  </thead>\n",
       "  <tbody>\n",
       "    <tr>\n",
       "      <th>Q1</th>\n",
       "      <td>1.000000</td>\n",
       "      <td>-0.256776</td>\n",
       "      <td>-0.273576</td>\n",
       "      <td>-0.054005</td>\n",
       "    </tr>\n",
       "    <tr>\n",
       "      <th>Q2</th>\n",
       "      <td>-0.256776</td>\n",
       "      <td>1.000000</td>\n",
       "      <td>-0.076102</td>\n",
       "      <td>-0.015023</td>\n",
       "    </tr>\n",
       "    <tr>\n",
       "      <th>Q3</th>\n",
       "      <td>-0.273576</td>\n",
       "      <td>-0.076102</td>\n",
       "      <td>1.000000</td>\n",
       "      <td>0.224079</td>\n",
       "    </tr>\n",
       "    <tr>\n",
       "      <th>Q4</th>\n",
       "      <td>-0.054005</td>\n",
       "      <td>-0.015023</td>\n",
       "      <td>0.224079</td>\n",
       "      <td>1.000000</td>\n",
       "    </tr>\n",
       "  </tbody>\n",
       "</table>\n",
       "</div>"
      ],
      "text/plain": [
       "          Q1        Q2        Q3        Q4\n",
       "Q1  1.000000 -0.256776 -0.273576 -0.054005\n",
       "Q2 -0.256776  1.000000 -0.076102 -0.015023\n",
       "Q3 -0.273576 -0.076102  1.000000  0.224079\n",
       "Q4 -0.054005 -0.015023  0.224079  1.000000"
      ]
     },
     "execution_count": 4,
     "metadata": {},
     "output_type": "execute_result"
    }
   ],
   "source": [
    "df.corr()"
   ]
  },
  {
   "cell_type": "code",
   "execution_count": 5,
   "id": "1b3a4f1c-6e03-4c61-9505-4b5a2ecda077",
   "metadata": {},
   "outputs": [],
   "source": [
    "# 各データを標準化\n",
    "#df = df.apply(lambda x: (x-x.mean())/x.std(), axis=0)"
   ]
  },
  {
   "cell_type": "code",
   "execution_count": 6,
   "id": "ee775fca-73d0-4026-9efa-7c5029a26fe7",
   "metadata": {},
   "outputs": [
    {
     "data": {
      "text/plain": [
       "<seaborn.axisgrid.PairGrid at 0x1205f10f0>"
      ]
     },
     "execution_count": 6,
     "metadata": {},
     "output_type": "execute_result"
    },
    {
     "data": {
      "image/png": "[encoded data removed]",
      "text/plain": [
       "<Figure size 720x720 with 20 Axes>"
      ]
     },
     "metadata": {
      "needs_background": "light"
     },
     "output_type": "display_data"
    }
   ],
   "source": [
    "sns.pairplot(df)"
   ]
  },
  {
   "cell_type": "code",
   "execution_count": 7,
   "id": "1d60f03a-2d09-4d90-b205-5f20778a8f3d",
   "metadata": {},
   "outputs": [
    {
     "data": {
      "text/plain": [
       "PCA(n_components=1)"
      ]
     },
     "execution_count": 7,
     "metadata": {},
     "output_type": "execute_result"
    },
    {
     "data": {
      "text/plain": [
       "array([[ 0.19711629,  0.02701628, -0.88617237, -0.41846603]])"
      ]
     },
     "execution_count": 7,
     "metadata": {},
     "output_type": "execute_result"
    }
   ],
   "source": [
    "pca = PCA(n_components=1)\n",
    "pca.fit(df)\n",
    "pca.components_"
   ]
  },
  {
   "cell_type": "code",
   "execution_count": 8,
   "id": "6a5f6094-888f-4d48-a81e-ddb43ce35215",
   "metadata": {},
   "outputs": [
    {
     "data": {
      "text/plain": [
       "array([0.4798373])"
      ]
     },
     "execution_count": 8,
     "metadata": {},
     "output_type": "execute_result"
    }
   ],
   "source": [
    "# 寄与率\n",
    "pca.explained_variance_ratio_"
   ]
  },
  {
   "cell_type": "code",
   "execution_count": null,
   "id": "c0be3dbf-8217-4e33-b48c-23df51de9ed3",
   "metadata": {},
   "outputs": [],
   "source": []
  }
 ],
 "metadata": {
  "kernelspec": {
   "display_name": "Python 3 (ipykernel)",
   "language": "python",
   "name": "python3"
  },
  "language_info": {
   "codemirror_mode": {
    "name": "ipython",
    "version": 3
   },
   "file_extension": ".py",
   "mimetype": "text/x-python",
   "name": "python",
   "nbconvert_exporter": "python",
   "pygments_lexer": "ipython3",
   "version": "3.10.2"
  }
 },
 "nbformat": 4,
 "nbformat_minor": 5
}
