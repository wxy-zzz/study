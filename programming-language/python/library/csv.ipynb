{
 "cells": [
  {
   "cell_type": "markdown",
   "id": "bcb0b50d-231c-4376-bd88-4a5c4d6fbab7",
   "metadata": {},
   "source": [
    "# csv --- CSV ファイルの読み書き\n",
    "https://docs.python.org/ja/3/library/csv.html"
   ]
  },
  {
   "cell_type": "code",
   "execution_count": 1,
   "id": "e5235bd8-e1ac-4244-a804-3a4f6a837d80",
   "metadata": {},
   "outputs": [],
   "source": [
    "import csv"
   ]
  },
  {
   "cell_type": "markdown",
   "id": "635427c6-cd47-43a2-9bb4-6728655f24f7",
   "metadata": {},
   "source": [
    "## csv.DictReader\n",
    "[csv.html#csv.DictReader](https://docs.python.org/ja/3/library/csv.html#csv.DictReader)"
   ]
  },
  {
   "cell_type": "markdown",
   "id": "87b715e7-0c3b-46f9-9a74-ac966b949f1f",
   "metadata": {},
   "source": [
    "### フィールド数が異なる場合にどうなるか"
   ]
  },
  {
   "cell_type": "code",
   "execution_count": 2,
   "id": "e3bd60cc-ac88-4b41-9a7a-b6f5e1e05650",
   "metadata": {},
   "outputs": [
    {
     "name": "stdout",
     "output_type": "stream",
     "text": [
      "{'h1': '1', 'h2': '2', 'h3': '3', 'h4': '4'}\n",
      "{'h1': 'a', 'h2': 'b', 'h3': 'c', 'h4': 'd', None: ['e']}\n",
      "{'h1': 'O', 'h2': 'P', 'h3': 'Q', 'h4': None}\n",
      "{'h1': '~', 'h2': '!', 'h3': '@', 'h4': '#', None: ['$', '%']}\n"
     ]
    }
   ],
   "source": [
    "sample = [\n",
    "    \"h1,h2,h3,h4\",\n",
    "    \"1,2,3,4\",\n",
    "    \"a,b,c,d,e\",\n",
    "    \"O,P,Q\",\n",
    "    \"~,!,@,#,$,%\",\n",
    "]\n",
    "reader = csv.DictReader(sample)\n",
    "for row in reader:\n",
    "    print(row)"
   ]
  },
  {
   "cell_type": "code",
   "execution_count": null,
   "id": "72b11f51-b08d-4811-83e9-154461bc7f7d",
   "metadata": {},
   "outputs": [],
   "source": []
  }
 ],
 "metadata": {
  "kernelspec": {
   "display_name": "Python 3 (ipykernel)",
   "language": "python",
   "name": "python3"
  },
  "language_info": {
   "codemirror_mode": {
    "name": "ipython",
    "version": 3
   },
   "file_extension": ".py",
   "mimetype": "text/x-python",
   "name": "python",
   "nbconvert_exporter": "python",
   "pygments_lexer": "ipython3",
   "version": "3.10.3"
  }
 },
 "nbformat": 4,
 "nbformat_minor": 5
}
