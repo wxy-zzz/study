{
 "cells": [
  {
   "cell_type": "code",
   "execution_count": 1,
   "metadata": {},
   "outputs": [],
   "source": [
    "import sys"
   ]
  },
  {
   "cell_type": "markdown",
   "metadata": {},
   "source": [
    "## 再帰数\n",
    "\n",
    "### `getrecursionlimit()`\n",
    "\n",
    "現在の最大再帰数を返す。\n",
    "\n",
    "<https://docs.python.org/ja/3/library/sys.html#sys.getrecursionlimit>\n",
    "\n",
    "### `setrecursionlimit(limit)`\n",
    "\n",
    "再帰数の最大の深さを `limit` に設定する。\n",
    "limit が大きすぎる場合は `OverflowError` が、小さすぎる場合は `RecursionError` が発生する。\n",
    "\n",
    "<https://docs.python.org/ja/3/library/sys.html#sys.setrecursionlimit>"
   ]
  },
  {
   "cell_type": "code",
   "execution_count": 2,
   "metadata": {},
   "outputs": [
    {
     "name": "stdout",
     "output_type": "stream",
     "text": [
      "before: 3000\n",
      "before: 100000\n"
     ]
    }
   ],
   "source": [
    "print(f\"before: {sys.getrecursionlimit()}\")\n",
    "sys.setrecursionlimit(10**5)\n",
    "print(f\"before: {sys.getrecursionlimit()}\")"
   ]
  },
  {
   "cell_type": "code",
   "execution_count": 3,
   "metadata": {},
   "outputs": [
    {
     "ename": "OverflowError",
     "evalue": "Python int too large to convert to C int",
     "output_type": "error",
     "traceback": [
      "\u001b[0;31m---------------------------------------------------------------------------\u001b[0m",
      "\u001b[0;31mOverflowError\u001b[0m                             Traceback (most recent call last)",
      "Cell \u001b[0;32mIn[3], line 1\u001b[0m\n\u001b[0;32m----> 1\u001b[0m sys\u001b[39m.\u001b[39;49msetrecursionlimit(\u001b[39m10\u001b[39;49m\u001b[39m*\u001b[39;49m\u001b[39m*\u001b[39;49m\u001b[39m10\u001b[39;49m)\n",
      "\u001b[0;31mOverflowError\u001b[0m: Python int too large to convert to C int"
     ]
    }
   ],
   "source": [
    "sys.setrecursionlimit(10**10)"
   ]
  },
  {
   "cell_type": "code",
   "execution_count": 4,
   "metadata": {},
   "outputs": [
    {
     "ename": "RecursionError",
     "evalue": "cannot set the recursion limit to 10 at the recursion depth 27: the limit is too low",
     "output_type": "error",
     "traceback": [
      "\u001b[0;31m---------------------------------------------------------------------------\u001b[0m",
      "\u001b[0;31mRecursionError\u001b[0m                            Traceback (most recent call last)",
      "Cell \u001b[0;32mIn[4], line 1\u001b[0m\n\u001b[0;32m----> 1\u001b[0m sys\u001b[39m.\u001b[39;49msetrecursionlimit(\u001b[39m10\u001b[39;49m)\n",
      "\u001b[0;31mRecursionError\u001b[0m: cannot set the recursion limit to 10 at the recursion depth 27: the limit is too low"
     ]
    }
   ],
   "source": [
    "sys.setrecursionlimit(10)"
   ]
  },
  {
   "cell_type": "code",
   "execution_count": null,
   "metadata": {},
   "outputs": [],
   "source": []
  }
 ],
 "metadata": {
  "kernelspec": {
   "display_name": "standard-library-Nbge-VF3",
   "language": "python",
   "name": "python3"
  },
  "language_info": {
   "codemirror_mode": {
    "name": "ipython",
    "version": 3
   },
   "file_extension": ".py",
   "mimetype": "text/x-python",
   "name": "python",
   "nbconvert_exporter": "python",
   "pygments_lexer": "ipython3",
   "version": "3.11.4"
  },
  "orig_nbformat": 4
 },
 "nbformat": 4,
 "nbformat_minor": 2
}
