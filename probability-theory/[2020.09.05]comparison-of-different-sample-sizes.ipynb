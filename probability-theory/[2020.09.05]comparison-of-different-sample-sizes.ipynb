{
 "cells": [
  {
   "cell_type": "markdown",
   "metadata": {},
   "source": [
    "# サンプルサイズが異なる群の比較で何がおきるだろうか？"
   ]
  },
  {
   "cell_type": "markdown",
   "metadata": {},
   "source": [
    "## 言葉\n",
    "- 第 1 種の過誤 (Type I error)\n",
    "    - 有意水準が `α` のときに、実際には有意差がないのに有意差があると判断してしまうこと。\n",
    "- 第 2 種の過誤 (Type II error)\n",
    "    - 実際には有意差があるのに有意差がないと判断してしまうこと。この確率を `β` で表す。\n",
    "- 検定力\n",
    "    - 正しく有意差を検出できる確率。`1 - β` で表す。"
   ]
  },
  {
   "cell_type": "markdown",
   "metadata": {},
   "source": [
    "# 調査内容\n",
    "[Controlled experiments on the web: survey and practical guide](Controlled experiments on the web: survey and practical guide) のサンプルを使って、ある一定の設定での比較のシミュレートを行う。\n",
    "\n",
    ">　If, however, you were only looking for a 5% change in conversion rate (not revenue), a lower variability OEC based on point 3.b can be used. Purchase, a conversion event, is modeled as a Bernoulli trial with p = 0.05 being the probability of a purchase. The standard deviation of a Bernoulli is √ p(1 − p) and thus you will need less than 122,000 users to achieve the desired power based on 16 ∗ (0.05 * (1 − 0.05))/(0.05 *\n",
    "0.05) ^2.\n",
    "\n",
    "- 比較設定\n",
    "    - それぞれのサンプルサイズ: `122,000` (合計 `244,000`)\n",
    "    - 平均: `0.05`\n",
    "    - 検出したい変化: `5%` の変化\n",
    "    - 比較する指標の分布: 二項分布\n",
    "    - 有意水準 5% (`α = 0.05`)\n",
    "    - 検出力 0.8 (`β = 0.2`)\n",
    "\n",
    "上記の設定での 2 群の比較を χ 二乗検定で行なった時、サンプルサイズを変化させた時に何が起きるのかを確認する。力技で。"
   ]
  },
  {
   "cell_type": "code",
   "execution_count": 1,
   "metadata": {},
   "outputs": [],
   "source": [
    "def is_significant_difference(size_a: int, size_b: int, ratio_a: float = 0.05, ratio_b: float = 0.05, alpha:float = 0.05):\n",
    "    a = np.random.binomial(size_a, ratio_a, 1)[0]\n",
    "    b = np.random.binomial(size_b, ratio_b, 1)[0]\n",
    "    return stats.chi2_contingency([[size_a - a, a],[size_b - b, b]])[1] < alpha\n",
    "\n",
    "sample_size = 122000\n",
    "avg = 0.05\n",
    "lift = 0.05\n",
    "trial = 100000"
   ]
  },
  {
   "cell_type": "markdown",
   "metadata": {},
   "source": [
    "## 1. 実際に有意差が存在する場合\n",
    "- 群 A の平均 `0.05`\n",
    "- 群 B の平均 `0.05 + 5% UP`\n",
    "\n",
    "上記の比較を 10 万回行なった時、正しく有意差が検出された割合を調べる"
   ]
  },
  {
   "cell_type": "markdown",
   "metadata": {},
   "source": [
    "## そのままの設定で比較"
   ]
  },
  {
   "cell_type": "code",
   "execution_count": 2,
   "metadata": {},
   "outputs": [
    {
     "data": {
      "text/plain": [
       "0.79666"
      ]
     },
     "execution_count": 2,
     "metadata": {},
     "output_type": "execute_result"
    }
   ],
   "source": [
    "result = Parallel(n_jobs=-1, verbose=0)([delayed(is_significant_difference)(sample_size, sample_size, ratio_a = avg, ratio_b = avg + avg*lift) for _ in range(trial)])\n",
    "sum([1 if x else 0 for x in result])/trial"
   ]
  },
  {
   "cell_type": "markdown",
   "metadata": {},
   "source": [
    "検出力に設定した `0.8` がそのまま現れている（20% の確率で Type II Error が起きている）"
   ]
  },
  {
   "cell_type": "markdown",
   "metadata": {},
   "source": [
    "## サンプルサイズをそれぞれ倍に"
   ]
  },
  {
   "cell_type": "code",
   "execution_count": 3,
   "metadata": {},
   "outputs": [
    {
     "data": {
      "text/plain": [
       "0.97721"
      ]
     },
     "execution_count": 3,
     "metadata": {},
     "output_type": "execute_result"
    }
   ],
   "source": [
    "result = Parallel(n_jobs=-1, verbose=0)([delayed(is_significant_difference)(sample_size *2, sample_size *2, ratio_a = avg, ratio_b = avg + avg*lift) for _ in range(trial)])\n",
    "sum([1 if x else 0 for x in result])/trial"
   ]
  },
  {
   "cell_type": "markdown",
   "metadata": {},
   "source": [
    "サンプルサイズが上がったことで、観測値の確度が上がり、Type II Error が殆ど発生していない。"
   ]
  },
  {
   "cell_type": "markdown",
   "metadata": {},
   "source": [
    "## 群 A のサンプルサイズを半分にし、減らした分を群 B に移した場合（不均衡な比較）"
   ]
  },
  {
   "cell_type": "code",
   "execution_count": 4,
   "metadata": {},
   "outputs": [
    {
     "data": {
      "text/plain": [
       "0.67585"
      ]
     },
     "execution_count": 4,
     "metadata": {},
     "output_type": "execute_result"
    }
   ],
   "source": [
    "result = Parallel(n_jobs=-1, verbose=0)([delayed(is_significant_difference)(sample_size *0.5, sample_size *1.5, ratio_a = avg, ratio_b = avg + avg*lift) for _ in range(trial)])\n",
    "sum([1 if x else 0 for x in result])/trial"
   ]
  },
  {
   "cell_type": "markdown",
   "metadata": {},
   "source": [
    "サンプルサイズの合計が同じでも群間でサンプルサイズに差がある場合、当初の設定である検出力を満たせなくなる。"
   ]
  },
  {
   "cell_type": "markdown",
   "metadata": {},
   "source": [
    "## 群 B のサンプルサイズを半分にし、減らした分を群 A に移した場合（不均衡な比較）"
   ]
  },
  {
   "cell_type": "code",
   "execution_count": 5,
   "metadata": {},
   "outputs": [
    {
     "data": {
      "text/plain": [
       "0.67395"
      ]
     },
     "execution_count": 5,
     "metadata": {},
     "output_type": "execute_result"
    }
   ],
   "source": [
    "result = Parallel(n_jobs=-1, verbose=0)([delayed(is_significant_difference)(sample_size *1.5, sample_size *0.5, ratio_a = avg, ratio_b = avg + avg*lift) for _ in range(trial)])\n",
    "sum([1 if x else 0 for x in result])/trial"
   ]
  },
  {
   "cell_type": "markdown",
   "metadata": {},
   "source": [
    "どちらの群のサイズが変化しても傾向は同じ（検出力は落ちる）"
   ]
  },
  {
   "cell_type": "markdown",
   "metadata": {},
   "source": [
    "## 2. 実際には有意差が存在しない場合\n",
    "- 群 A の平均 `0.05`\n",
    "- 群 B の平均 `0.05`\n",
    "\n",
    "上記の比較を 10 万回行なった時、正しく有意差が検出された割合を調べる"
   ]
  },
  {
   "cell_type": "markdown",
   "metadata": {},
   "source": [
    "## そのままの設定で比較"
   ]
  },
  {
   "cell_type": "code",
   "execution_count": 6,
   "metadata": {},
   "outputs": [
    {
     "data": {
      "text/plain": [
       "0.04895"
      ]
     },
     "execution_count": 6,
     "metadata": {},
     "output_type": "execute_result"
    }
   ],
   "source": [
    "result = Parallel(n_jobs=-1, verbose=0)([delayed(is_significant_difference)(sample_size, sample_size, ratio_a = avg, ratio_b = avg) for _ in range(trial)])\n",
    "sum([1 if x else 0 for x in result])/trial"
   ]
  },
  {
   "cell_type": "markdown",
   "metadata": {},
   "source": [
    "有意水準に設定した 0.05 が現れる。"
   ]
  },
  {
   "cell_type": "markdown",
   "metadata": {},
   "source": [
    "## サンプルサイズをそれぞれ倍に"
   ]
  },
  {
   "cell_type": "code",
   "execution_count": 7,
   "metadata": {},
   "outputs": [
    {
     "data": {
      "text/plain": [
       "0.04992"
      ]
     },
     "execution_count": 7,
     "metadata": {},
     "output_type": "execute_result"
    }
   ],
   "source": [
    "result = Parallel(n_jobs=-1, verbose=0)([delayed(is_significant_difference)(sample_size *2, sample_size *2, ratio_a = avg, ratio_b = avg) for _ in range(trial)])\n",
    "sum([1 if x else 0 for x in result])/trial"
   ]
  },
  {
   "cell_type": "markdown",
   "metadata": {},
   "source": [
    "サンプルサイズが上がったことで、観測値の確度が上がり、Type II Error が殆ど発生していない。"
   ]
  },
  {
   "cell_type": "markdown",
   "metadata": {},
   "source": [
    "## 群 A のサンプルサイズを半分にし、減らした分を群 B に移した場合（不均衡な比較）"
   ]
  },
  {
   "cell_type": "code",
   "execution_count": 8,
   "metadata": {},
   "outputs": [
    {
     "data": {
      "text/plain": [
       "0.04858"
      ]
     },
     "execution_count": 8,
     "metadata": {},
     "output_type": "execute_result"
    }
   ],
   "source": [
    "result = Parallel(n_jobs=-1, verbose=0)([delayed(is_significant_difference)(sample_size *0.5, sample_size *1.5, ratio_a = avg, ratio_b = avg) for _ in range(trial)])\n",
    "sum([1 if x else 0 for x in result])/trial"
   ]
  },
  {
   "cell_type": "markdown",
   "metadata": {},
   "source": [
    "サンプルサイズの合計が同じでも群間でサンプルサイズに差がある場合、当初の設定である検出力を満たせなくなる。"
   ]
  },
  {
   "cell_type": "markdown",
   "metadata": {},
   "source": [
    "## 群 B のサンプルサイズを半分にし、減らした分を群 A に移した場合（不均衡な比較）"
   ]
  },
  {
   "cell_type": "code",
   "execution_count": 9,
   "metadata": {},
   "outputs": [
    {
     "data": {
      "text/plain": [
       "0.04877"
      ]
     },
     "execution_count": 9,
     "metadata": {},
     "output_type": "execute_result"
    }
   ],
   "source": [
    "result = Parallel(n_jobs=-1, verbose=0)([delayed(is_significant_difference)(sample_size *1.5, sample_size *0.5, ratio_a = avg, ratio_b = avg) for _ in range(trial)])\n",
    "sum([1 if x else 0 for x in result])/trial"
   ]
  },
  {
   "cell_type": "markdown",
   "metadata": {},
   "source": [
    "どちらの群のサイズが変化しても傾向は同じ（検出力は落ちる）"
   ]
  },
  {
   "cell_type": "markdown",
   "metadata": {},
   "source": [
    "サンプルサイズに依存せず、Type I Error の確率は変わらなさそう。"
   ]
  },
  {
   "cell_type": "markdown",
   "metadata": {},
   "source": [
    "# Links\n",
    "- http://www.u.tsukuba.ac.jp/~hirai.akiyo.ft/meeting13.files/SLAA_5_16%28withoutimage%29.pdf"
   ]
  },
  {
   "cell_type": "code",
   "execution_count": null,
   "metadata": {},
   "outputs": [],
   "source": []
  }
 ],
 "metadata": {
  "kernelspec": {
   "display_name": "Python 3",
   "language": "python",
   "name": "python3"
  },
  "language_info": {
   "codemirror_mode": {
    "name": "ipython",
    "version": 3
   },
   "file_extension": ".py",
   "mimetype": "text/x-python",
   "name": "python",
   "nbconvert_exporter": "python",
   "pygments_lexer": "ipython3",
   "version": "3.6.10"
  }
 },
 "nbformat": 4,
 "nbformat_minor": 4
}
